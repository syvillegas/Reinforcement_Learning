{
 "cells": [
  {
   "cell_type": "markdown",
   "id": "b0813574",
   "metadata": {},
   "source": [
    "# REINFORCEMENT LEARNING: Problem set 3\n",
    "## Sergio-Yersi Villegas Pelegrín\n",
    "### *June 2022*\n",
    "#### **Soft Policy Iteration**"
   ]
  },
  {
   "cell_type": "markdown",
   "id": "91c9b6eb",
   "metadata": {},
   "source": [
    "# Modules, functions and parameters"
   ]
  },
  {
   "cell_type": "markdown",
   "id": "4c54f2d6",
   "metadata": {},
   "source": [
    "We will begin by importing the relevant modules that we will be using during this third problem set."
   ]
  },
  {
   "cell_type": "code",
   "execution_count": 1,
   "id": "f3b12387",
   "metadata": {},
   "outputs": [],
   "source": [
    "import numpy as np\n",
    "import matplotlib.pyplot as plt\n",
    "import pandas as pd\n",
    "from datetime import datetime\n",
    "from numpy.random import choice"
   ]
  },
  {
   "cell_type": "markdown",
   "id": "c841a218",
   "metadata": {},
   "source": [
    "Then, we define the generalized functions that we will be using throughout the exercises, which are briefly described below."
   ]
  },
  {
   "cell_type": "code",
   "execution_count": 15,
   "id": "08a77879",
   "metadata": {},
   "outputs": [],
   "source": [
    "def action(a_type, q_low, q_high):\n",
    "    \n",
    "    \"\"\"\n",
    "    Given the type of service rate it gets\n",
    "    as input, returns the corresponding q(a) value.\n",
    "    \n",
    "    a_type: type of service rate\n",
    "    q_low: q value for low service rates\n",
    "    q_high: q value for high service rates\n",
    "    \n",
    "    \n",
    "    \"\"\"\n",
    "    if a_type == 'low':\n",
    "        return q_low\n",
    "    else:\n",
    "        return q_high\n",
    "\n",
    "def cost(a_type, q_low, q_high):\n",
    "    \"\"\"\n",
    "    Given the type of service rate it gets\n",
    "    as input, returns the corresponding cost value,\n",
    "    associated to the action type. It calls the \n",
    "    above 'action' function.\n",
    "    \n",
    "    a_type: type of service rate\n",
    "    q_low: q value for low service rates\n",
    "    q_high: q value for high service rates\n",
    "    \n",
    "    \"\"\"    \n",
    "    a = action(a_type, q_low, q_high)\n",
    "    if a == q_low:\n",
    "        return 0\n",
    "    else:\n",
    "        return 0.01\n",
    "\n",
    "def reward(a_type, q_low, q_high,x,N):\n",
    "    \"\"\"\n",
    "    Given the type of service rate it gets\n",
    "    as input, returns the corresponding reward value,\n",
    "    associated to the corresponding action and cost\n",
    "    which are computed by calling the previous functions,\n",
    "    for each state x.\n",
    "    \n",
    "    a_type: type of service rate\n",
    "    q_low: q value for low service rates\n",
    "    q_high: q value for high service rates\n",
    "    x: state\n",
    "    N: maximum state (N-1 if starting at 0)\n",
    "    \n",
    "    \"\"\"      \n",
    "    c = cost(a_type, q_low, q_high)\n",
    "    return -((x/N)**2)-c\n",
    "\n",
    "def policy_type(N,pol_type):\n",
    "    \"\"\"\n",
    "    Given the policy type,\n",
    "    returns a vector with the \n",
    "    actions it will perform in \n",
    "    each state.\n",
    "    \n",
    "    N: maximum state (N-1 if starting at 0)\n",
    "    pol_type: policy type\n",
    "    \n",
    "    \"\"\"\n",
    "    policy = np.full(N,'low', dtype='<U16')\n",
    "    if pol_type == 'agg':\n",
    "        for i in range(50,N):\n",
    "            policy[i] = 'high'\n",
    "    elif pol_type == 'high':\n",
    "        policy = np.full(N,'high', dtype='<U16')\n",
    "        \n",
    "    elif pol_type == 'uniform':\n",
    "        policy = np.array([choice(a=['low','high'], p=[0.5,0.5]) for i in range(N)])\n",
    "    return policy   \n",
    "\n",
    "def feature_map(map_type, x, N):\n",
    "    \n",
    "    \"\"\"\n",
    "    Given the map type,\n",
    "    returns a vector with the \n",
    "    corresponding feature map\n",
    "    for the given state x.\n",
    "    \n",
    "    map_type: type of feature map\n",
    "    x: state to compute the map\n",
    "    N: maximum state (N-1 if starting at 0)\n",
    "    \n",
    "    \"\"\"\n",
    "        \n",
    "    if map_type == 'fine':\n",
    "        return [1 if i==x else 0 for i in range(N)]   \n",
    "    elif map_type == 'coarse':\n",
    "        return [1 if (x>=5*(i-1) and x<=5*i-1) else 0 for i in range(1,int(N/5)+1)]   \n",
    "    else:\n",
    "        phi1 = [1 if (x>=5*(i-1) and x<=5*i-1) else 0 for i in range(1,int(N/5)+1)]\n",
    "        phi2 = [(x-5*(i-1))/5 if (x>=5*(i-1) and x<=5*i-1) else 0 for i in range(1,int(N/5)+1)]\n",
    "        return phi1+phi2\n",
    "\n",
    "def theta_func(map_type,x,N):\n",
    "    \"\"\"\n",
    "    Given the map type,\n",
    "    returns a vector of 0s with the \n",
    "    length of the corresponding\n",
    "    feature map for the given state x.\n",
    "    \n",
    "    map_type: type of feature map\n",
    "    x: state to compute the map\n",
    "    N: maximum state (N-1 if starting at 0)\n",
    "    \n",
    "    \"\"\"\n",
    "    length = len(feature_map(map_type, x, N))\n",
    "    return np.zeros((length))"
   ]
  },
  {
   "cell_type": "markdown",
   "id": "3ce110e1",
   "metadata": {},
   "source": [
    "Finally, we define the fixed parameters that are provided in the instructions."
   ]
  },
  {
   "cell_type": "code",
   "execution_count": 27,
   "id": "120d4c21",
   "metadata": {},
   "outputs": [],
   "source": [
    "N = 100 # Maximum amount of states\n",
    "max_iter = 100 # Maximum number of iterations to perform\n",
    "q_low = 0.51 # q value for low service rate\n",
    "q_high = 0.6 # q value for high service rate\n",
    "p = 0.5 # rate at which new requests arrive into the queue\n",
    "gamma = 0.9 # Discount factor\n",
    "s0 = 99 # Initial state (full queue)\n",
    "iter_list = [10000,100000,1000000,10000000] # Sample transitions \n",
    "map_list = ['fine','coarse','piecewise'] # Feature maps \n",
    "\n",
    "\n",
    "eta_vector = np.logspace(-2,2,num=10) # 10 different etas logspaced (from 0.01 to 100)"
   ]
  },
  {
   "cell_type": "code",
   "execution_count": 28,
   "id": "e2dd0651",
   "metadata": {},
   "outputs": [
    {
     "data": {
      "text/plain": [
       "array([1.00000000e-02, 2.78255940e-02, 7.74263683e-02, 2.15443469e-01,\n",
       "       5.99484250e-01, 1.66810054e+00, 4.64158883e+00, 1.29154967e+01,\n",
       "       3.59381366e+01, 1.00000000e+02])"
      ]
     },
     "execution_count": 28,
     "metadata": {},
     "output_type": "execute_result"
    }
   ],
   "source": [
    "eta_vector"
   ]
  },
  {
   "cell_type": "markdown",
   "id": "d3f36cd5",
   "metadata": {},
   "source": [
    "# Problem: Soft policy iteration"
   ]
  },
  {
   "cell_type": "markdown",
   "id": "15352a0c",
   "metadata": {},
   "source": [
    "In this last problem set, using the LSTD implementation from the previous problem set, we will implement a soft policy iteration method where the initial policy is set as the uniform policy $π_1(a|x) = \\frac{1}{|A|}$ and, at each iteration $k = 1, 2,...,K$, we evaluate the policy with LSTD, compute the Q-function estimates for each action and set the new policy as instructed. We run the algorithm for a range of $M$ values of the learning rate $\\eta$ spanning the interval $[0.01,100]$ evenly on a logarithmic scale. For each different $\\eta_m$ in the range $m = 1, 2,...,M$, we\n",
    "record the total amount of reward gathered during learning. Furthermore, we save and use the last state at each iteration of the algorithm (that is, when switching from the last value of $T$ at one $k$ to the next initial value of $T$ at the next $k$, as specified in the instructions). Finally, we add a small numerical constant $\\epsilon=1·10^{-100}$ for numerical stability, since Python will set to 0 values that are extremely small and thus, it results into having $\\frac{0}{0}$, which is indetermined and yields a NaN, causing an error in the code.\n",
    "\n",
    "Below, we describe the used method and perform the computations with the chosen parameters: $T=10^5$ sample transitions, $K=100$ iterations and $M=10$ different values of $\\eta$. Note that we have reduced the amount of $\\eta$ values as instructed, since trying $M=100$ results in a too long computational time."
   ]
  },
  {
   "cell_type": "markdown",
   "id": "fc8147ef",
   "metadata": {},
   "source": [
    "## Least Squares Temporal Difference"
   ]
  },
  {
   "cell_type": "code",
   "execution_count": 33,
   "id": "2bbf207d",
   "metadata": {},
   "outputs": [],
   "source": [
    "def lstd(s0,N,pol_type,max_iter,a,b,q_low,q_high,map_type,p,gamma,optimal_policy=None):\n",
    "    \"\"\"\n",
    "    Given a policy and an initial state, computes LSTD with the 'expected'\n",
    "    next state and the corresponding feature maps. When we have looped\n",
    "    over all the iterations, we compute the inverse matrix using the Moore–\n",
    "    Penrose pseudoinverse and then the final, updated theta, so we can finally\n",
    "    create our approximated value function results for each state. We return the\n",
    "    value functions, the last state of the queue (since we update s0 at each iteration,\n",
    "    so its last value is the last state of the queue) and the total gathered reward.\n",
    "    \n",
    "    s0: initial state\n",
    "    N: maximum state (N-1 if starting at 0)\n",
    "    pol_type: policy type\n",
    "    max_iter: sample transitions\n",
    "    a: tuning parameter\n",
    "    b: tuning parameter\n",
    "    q_low: q value for low service rates\n",
    "    q_high: q value for high service rates\n",
    "    map_type: type of feature map\n",
    "    p: new requests arrival rate\n",
    "    gamma: discount factor\n",
    "    optimal policy: using an optimal policy if given (None as default)\n",
    "    \"\"\"\n",
    "    policy = optimal_policy if optimal_policy is not None else policy_type(N, pol_type)\n",
    "    theta = theta_func(map_type,s0,N)\n",
    "    states = [i for i in range(N)]\n",
    "    mat = 0\n",
    "    b_T = 0\n",
    "    r_k = 0\n",
    "    for k in range(1,max_iter):\n",
    "        alpha = a/(k+b)\n",
    "        q = action(policy[s0], q_low, q_high)\n",
    "        if s0==N-1:\n",
    "            p_dec = (1-p)*q\n",
    "            p_eq = 1 - (1-p)*q\n",
    "            s_prime = choice(a=[s0-1,s0], p=[p_dec,p_eq])\n",
    "        elif s0==0:\n",
    "            p_inc = p*(1-q)\n",
    "            p_eq = 1-p*(1-q)\n",
    "            s_prime = choice(a=[s0+1,s0], p=[p_inc,p_eq])\n",
    "        else:\n",
    "            p_dec = (1-p)*q\n",
    "            p_inc = p*(1-q)\n",
    "            p_eq = p*q+(1-p)*(1-q)\n",
    "            s_prime = choice(a=[s0+1,s0-1,s0], p=[p_inc,p_dec,p_eq])\n",
    "        f_x = np.matrix(feature_map(map_type, s0, N))\n",
    "        f_next = np.matrix(feature_map(map_type, s_prime, N))\n",
    "        mat += f_x.T*((f_x-gamma*f_next))\n",
    "        r_k += reward(policy[s0],q_low,q_high,s0,N)\n",
    "        b_T += r_k*f_x\n",
    "        s0 = s_prime\n",
    "    mat=np.linalg.pinv(mat)\n",
    "    theta = b_T*mat\n",
    "    values = [np.dot(theta,feature_map(map_type, i, N)) for i in states]\n",
    "    return [values, s0, r_k]"
   ]
  },
  {
   "cell_type": "markdown",
   "id": "473f47c1",
   "metadata": {},
   "source": [
    "## Transition matrix"
   ]
  },
  {
   "cell_type": "code",
   "execution_count": 34,
   "id": "6f95eebd",
   "metadata": {},
   "outputs": [],
   "source": [
    "def transition_matrix(N, pol_type, q_low, q_high, p): \n",
    "    \"\"\"\n",
    "    Defines the transition matrix with all the corresponding\n",
    "    queue movement probabilities associated to each state,\n",
    "    according to a policy type given as input.\n",
    "    Three cases are identified, each one with specific expressions \n",
    "    for the probability of each queue movement:\n",
    "    empty queue, full queue and all the values in between.\n",
    "    We define p_dec, p_inc and \n",
    "    p_eq as the probabilities of the queue decreasing, increasing and staying equal,\n",
    "    respectively, as the combined probabilities according to each case.\n",
    "    \n",
    "    N: maximum state (N-1 if starting at 0)\n",
    "    pol_type: policy type\n",
    "    q_low: q value for low service rates\n",
    "    q_high: q value for high service rates\n",
    "    p: new requests arrival rate\n",
    "    \n",
    "    \"\"\"\n",
    "    transition_mat = np.zeros((N,N))\n",
    "    policy = policy_type(N, pol_type)\n",
    "    for x in range(N):\n",
    "        q = action(policy[x], q_low, q_high)\n",
    "        if x != 0 and x != N-1: \n",
    "            p_dec = (1-p)*q\n",
    "            p_inc = p*(1-q)\n",
    "            p_eq = p*q+(1-p)*(1-q)\n",
    "            transition_mat[x, x] = p_eq\n",
    "            transition_mat[x,x+1] = p_inc\n",
    "            transition_mat[x,x-1] = p_dec\n",
    "        else:\n",
    "            if x == 0:\n",
    "                p_dec = 0.0\n",
    "                p_inc = p*(1-q)\n",
    "                p_eq = 1-p*(1-q)\n",
    "                transition_mat[x,x] = p_eq\n",
    "                transition_mat[x,x+1] = p_inc\n",
    "            else:\n",
    "                p_dec = (1-p)*q\n",
    "                p_inc = 0\n",
    "                p_eq = 1 - (1-p)*q\n",
    "                transition_mat[x,x] = p_eq\n",
    "                transition_mat[x,x-1] = p_dec\n",
    "    return transition_mat"
   ]
  },
  {
   "cell_type": "markdown",
   "id": "d1b5593f",
   "metadata": {},
   "source": [
    "## Soft policy iteration"
   ]
  },
  {
   "cell_type": "code",
   "execution_count": 154,
   "id": "48869479",
   "metadata": {},
   "outputs": [],
   "source": [
    "def soft_policy_iteration(s0,iterations,a,b,map_type,pol_type,N, initial_pol,\\\n",
    "                     pol_type_low, pol_type_high, q_low, q_high, p, max_iter, gamma, eta,epsilon):\n",
    "    \"\"\"\n",
    "    Iterates over all the states during a maximum number of iterations\n",
    "    and computes two value functions at each state for the two possible actions. \n",
    "    Morever, three cases are identified, each one with specific expressions for \n",
    "    the probability of each queue movement:\n",
    "    empty queue, full queue and all the values in between. At each state,\n",
    "    if the value function corresponding to the initial action type is\n",
    "    lower than the other (the one that will update the result), the optimal policy\n",
    "    is updated accordingly. In other words, if initialized at 'low', if the value\n",
    "    for 'high' is greater than the one for 'low', it is updated from 'low' to 'high',\n",
    "    and viceversa if initialized oppositely.\n",
    "\n",
    "    s0: initial state\n",
    "    iterations: number of iterations\n",
    "    a: tuning parameter\n",
    "    b: tuning parameter    \n",
    "    map_type: type of feature map    \n",
    "    pol_type: policy type\n",
    "    N: maximum state (N-1 if starting at 0)\n",
    "    initial_pol: policy type to be initialized\n",
    "    pol_type_low: policy full of low actions\n",
    "    pol_type_high: policy full of high actions\n",
    "    q_low: q value for low service rates\n",
    "    q_high: q value for high service rates\n",
    "    p: new requests arrival rate\n",
    "    max_iter: sample transitions\n",
    "    gamma: discount factor\n",
    "    eta: learning rate\n",
    "    epsilon: small constant for numerical stability\n",
    "    \n",
    "    \"\"\"\n",
    "    optimal_policy = list(policy_type(N,initial_pol))\n",
    "    low_pol_matrix = transition_matrix(N,pol_type_low,q_low,q_high,p)\n",
    "    high_pol_matrix = transition_matrix(N,pol_type_high,q_low,q_high,p) \n",
    "    old_pi = np.full(N,0.5)\n",
    "    new_pi = np.zeros(N)\n",
    "    r_k = 0\n",
    "  \n",
    "    for k in range(iterations):\n",
    "        LSTD_results = lstd(s0,N,pol_type,max_iter,a,b,q_low,\\\n",
    "                                           q_high,map_type,p,gamma,optimal_policy)\n",
    "            \n",
    "        policy_value, s0 = LSTD_results[0], LSTD_results[1]\n",
    "        r_k += LSTD_results[2]\n",
    "        \n",
    "        for x in range(N):\n",
    "            if x==0:\n",
    "                value_a_low = reward(pol_type_low,q_low,q_high,x,N) + gamma*\\\n",
    "                (low_pol_matrix[x,x+1]*policy_value[x+1] + low_pol_matrix[x,x]*policy_value[x])\n",
    "                \n",
    "                value_a_high = reward(pol_type_high,q_low,q_high,x,N) + gamma*\\\n",
    "                (high_pol_matrix[x,x+1]*policy_value[x+1] + high_pol_matrix[x,x]*policy_value[x])        \n",
    "\n",
    "            elif (x>0) and (x < N - 1):\n",
    "                value_a_low = reward(pol_type_low,q_low,q_high,x,N) + gamma*\\\n",
    "                (low_pol_matrix[x,x+1]*policy_value[x+1] + low_pol_matrix[x,x]*policy_value[x] + \\\n",
    "                 low_pol_matrix[x,x-1]*policy_value[x-1])\n",
    "                \n",
    "                value_a_high = reward(pol_type_high,q_low,q_high,x,N) + gamma*\\\n",
    "                (high_pol_matrix[x,x+1]*policy_value[x+1] + high_pol_matrix[x,x]*policy_value[x] + \\\n",
    "                 high_pol_matrix[x,x-1]*policy_value[x-1])\n",
    "            else:\n",
    "                value_a_low = reward(pol_type_low,q_low,q_high,x,N) + gamma*\\\n",
    "                (low_pol_matrix[x,x]*policy_value[x]+low_pol_matrix[x,x-1]*policy_value[x-1])\n",
    "                value_a_high = reward(pol_type_high,q_low,q_high,x,N) + gamma*\\\n",
    "                (high_pol_matrix[x,x]*policy_value[x] + high_pol_matrix[x,x-1]*policy_value[x-1])\n",
    "\n",
    "            \n",
    "            new_pi[x] = (old_pi[x]*np.exp(eta*value_a_low)+epsilon)/(old_pi[x]*np.exp(eta*value_a_low) + \\\n",
    "                                                       (1-old_pi[x])*np.exp(eta*value_a_high) + epsilon) \n",
    "\n",
    "            optimal_policy[x] = choice(a=[pol_type_low,pol_type_high], p=[new_pi[x],1-new_pi[x]])\n",
    "            \n",
    "        old_pi = new_pi\n",
    "            \n",
    "    return [r_k, optimal_policy]\n"
   ]
  },
  {
   "cell_type": "markdown",
   "id": "49c5942d",
   "metadata": {},
   "source": [
    "## Results"
   ]
  },
  {
   "cell_type": "markdown",
   "id": "b7ea51c0",
   "metadata": {},
   "source": [
    "We will just focus on the gathered rewards for each $\\eta$ for the required plots."
   ]
  },
  {
   "cell_type": "code",
   "execution_count": 155,
   "id": "7f014cbc",
   "metadata": {},
   "outputs": [],
   "source": [
    "rewards_ps3 = []\n",
    "policies_ps3 = []\n",
    "for eta in eta_vector:\n",
    "    res_eta = soft_policy_iteration(s0=s0,iterations=100,a=100000,b=100000,map_type='piecewise',pol_type =None,\\\n",
    "                                      N=N, initial_pol = 'uniform', pol_type_low='low', \\\n",
    "                                      pol_type_high='high',q_low=q_low, q_high=q_high,p=p, \\\n",
    "                                      max_iter=100000, gamma=gamma, eta=eta, epsilon=1e-100)\n",
    "    rewards_ps3.append(res_eta[0])    \n",
    "    policies_ps3.append(res_eta[1])"
   ]
  },
  {
   "cell_type": "code",
   "execution_count": 169,
   "id": "365b4504",
   "metadata": {},
   "outputs": [],
   "source": [
    "#rewards_ps3 = results_ps3[10:]\n",
    "rewards_df = pd.DataFrame(rewards_ps3, columns =['rewards'])\n",
    "rewards_df.to_csv('/Volumes/GoogleDrive/Mi unidad/BSE/TERM 3/RL/data/rewards_ps3.csv')"
   ]
  },
  {
   "cell_type": "code",
   "execution_count": 181,
   "id": "b7123052",
   "metadata": {},
   "outputs": [],
   "source": [
    "policies_df = pd.DataFrame(policies_ps3).transpose()\n",
    "policies_df.columns = ['eta_'+str(i) for i in range(1,11)]\n",
    "policies_df.to_csv('/Volumes/GoogleDrive/Mi unidad/BSE/TERM 3/RL/data/policies_ps3.csv')"
   ]
  },
  {
   "cell_type": "code",
   "execution_count": 182,
   "id": "09bbd5d2",
   "metadata": {
    "scrolled": false
   },
   "outputs": [
    {
     "data": {
      "image/png": "[encoded data removed]",
      "text/plain": [
       "<Figure size 1008x720 with 1 Axes>"
      ]
     },
     "metadata": {
      "needs_background": "light"
     },
     "output_type": "display_data"
    }
   ],
   "source": [
    "plt.figure(figsize=(14,10))\n",
    "plt.plot(eta_vector,rewards_ps3)\n",
    "plt.title('Soft Policy Iteration', fontsize='x-large')\n",
    "plt.xlabel('Learning rates', fontsize='x-large')\n",
    "plt.ylabel('Rewards', fontsize='x-large')\n",
    "plt.xscale('log')\n",
    "plt.show()"
   ]
  },
  {
   "cell_type": "markdown",
   "id": "aee4215d",
   "metadata": {},
   "source": [
    "As we can see, there is a decreasing tendency in the gathered rewards with increasing learning rates (which implies more penalization) that are lower than 1, meaning that the reward keeps getting more negative as we increase $\\eta$ in that range of values (i.e., $\\eta<1$). Then, for learning rates higher than 1, the gathered rewards begin to have a fluctuation behavior, in which they stop decreasing and the results go up and down. With more values of $\\eta$, more iterations and more transition samples, this behavior could converge towards having the same gathered rewards after a given value of $\\eta$. Therefore, this fluctuation behavior is due to having low values of these iterative parameters; it was not feasible to increase them, since it would take too long to run. Hence, for $\\eta$ values greater than 1, it performs well and, more specifically, the performance would reach its best if we used the aforementioned better values of the iterative parameters parameters. Then, learning rates values lower than 1 perform poorly, since they keep improving until they reach $\\eta$ values of 1.\n",
    "\n",
    "All things considered, we can conclude by acknowledging the existence of an optimal learning rate that must be close to and higher than 1, while lower values result in a poor, improvable performance."
   ]
  }
 ],
 "metadata": {
  "kernelspec": {
   "display_name": "Python 3 (ipykernel)",
   "language": "python",
   "name": "python3"
  },
  "language_info": {
   "codemirror_mode": {
    "name": "ipython",
    "version": 3
   },
   "file_extension": ".py",
   "mimetype": "text/x-python",
   "name": "python",
   "nbconvert_exporter": "python",
   "pygments_lexer": "ipython3",
   "version": "3.8.13"
  }
 },
 "nbformat": 4,
 "nbformat_minor": 5
}
